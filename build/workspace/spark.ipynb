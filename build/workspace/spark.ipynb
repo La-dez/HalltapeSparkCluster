{
 "cells": [
  {
   "cell_type": "markdown",
   "id": "02dbd35c-c05b-4e74-9cb5-a3fc2a0e5351",
   "metadata": {},
   "source": [
    "### Start SparkSession"
   ]
  },
  {
   "cell_type": "code",
   "execution_count": null,
   "id": "9fcf1a3f-7641-4f37-9935-eb1cd80bf098",
   "metadata": {},
   "outputs": [],
   "source": [
    "from pyspark.sql import SparkSession\n",
    "from pyspark.sql import Row\n",
    "import pyspark.sql.functions as F\n",
    "\n",
    "\n",
    "spark = SparkSession \\\n",
    "            .builder \\\n",
    "            .appName(\"spark_halltape\") \\\n",
    "    .getOrCreate()\n",
    "\n",
    "\n",
    "print(\"Активные Spark сессии:\", spark.sparkContext.uiWebUrl)"
   ]
  },
  {
   "cell_type": "code",
   "execution_count": 31,
   "id": "adc06b60",
   "metadata": {},
   "outputs": [],
   "source": [
    "PATH = '/Users/halltape/Desktop/CODE/'"
   ]
  },
  {
   "cell_type": "code",
   "execution_count": null,
   "id": "4e72cd71",
   "metadata": {},
   "outputs": [],
   "source": [
    "spark.read.csv('datasets/output.csv').show()"
   ]
  },
  {
   "cell_type": "code",
   "execution_count": null,
   "id": "47fc0e65",
   "metadata": {},
   "outputs": [],
   "source": [
    "spark.read.csv('datasets/output.csv').first()"
   ]
  },
  {
   "cell_type": "code",
   "execution_count": null,
   "id": "83700e6c",
   "metadata": {},
   "outputs": [],
   "source": [
    "spark.read.csv('datasets/output.csv', sep=';', header=True).show()"
   ]
  },
  {
   "cell_type": "code",
   "execution_count": null,
   "id": "9c9440ab",
   "metadata": {},
   "outputs": [],
   "source": [
    "spark.read.csv('datasets/output.csv', sep=';', header=True).show(2, False, True)"
   ]
  },
  {
   "cell_type": "markdown",
   "id": "7096cb41",
   "metadata": {},
   "source": [
    "### PrintSchema"
   ]
  },
  {
   "cell_type": "code",
   "execution_count": null,
   "id": "21a90f1c",
   "metadata": {},
   "outputs": [],
   "source": [
    "df = spark.read.csv('datasets/output.csv', sep=';', header=True).drop(\"_c0\")\n",
    "\n",
    "df.printSchema()"
   ]
  },
  {
   "cell_type": "code",
   "execution_count": null,
   "id": "72fedc83",
   "metadata": {},
   "outputs": [],
   "source": [
    "df = df\\\n",
    "        .withColumnRenamed(\" id\", \"id\")\\\n",
    "        .withColumnRenamed(\"actual PRICE\", \"actual_price\")\n",
    "\n",
    "df.columns"
   ]
  },
  {
   "cell_type": "code",
   "execution_count": null,
   "id": "7c9ebb5a",
   "metadata": {},
   "outputs": [],
   "source": [
    "list_of_columns = ['id',\n",
    "                 'actual_price',\n",
    "                 'average_rating',\n",
    "                 'brand',\n",
    "                 'category',\n",
    "                 'crawled_at',\n",
    "                 'description',\n",
    "                 'discount',\n",
    "                 'image',\n",
    "                 'out_of_stock',\n",
    "                 'pid',\n",
    "                 'product_details',\n",
    "                 'seller',\n",
    "                 'selling_price',\n",
    "                 'sub_category',\n",
    "                 'title',\n",
    "                 'url']\n",
    "\n",
    "new_df = df.toDF(*list_of_columns)\n",
    "new_df.columns"
   ]
  },
  {
   "cell_type": "markdown",
   "id": "8464d803",
   "metadata": {},
   "source": [
    "### Select"
   ]
  },
  {
   "cell_type": "code",
   "execution_count": null,
   "id": "3b7632fc",
   "metadata": {},
   "outputs": [],
   "source": [
    "new_df.select('id', 'actual_price', 'average_rating', 'brand').show(4, truncate=False)"
   ]
  },
  {
   "cell_type": "markdown",
   "id": "7bd757ea",
   "metadata": {},
   "source": [
    "### Filter"
   ]
  },
  {
   "cell_type": "code",
   "execution_count": null,
   "id": "cf02c21f",
   "metadata": {},
   "outputs": [],
   "source": [
    "new_df.where(''' brand != \"York\" ''')\\\n",
    "    .select('id', 'actual_price', 'average_rating', 'brand')\\\n",
    "    .show(10, truncate=False)\n",
    "\n",
    "\n",
    "\n",
    "new_df.where(F.col(\"brand\") != \"York\")\\\n",
    "    .select('id', 'actual_price', 'average_rating', 'brand')\\\n",
    "    .show(10, truncate=False)"
   ]
  },
  {
   "cell_type": "markdown",
   "id": "022f5468",
   "metadata": {},
   "source": [
    "### JOIN"
   ]
  },
  {
   "cell_type": "code",
   "execution_count": null,
   "id": "a7d9203a",
   "metadata": {},
   "outputs": [],
   "source": [
    "data = [(1,'one'), (2,'two'), (3,'three'), (4,'four'),\n",
    "        (5,'five'), (6,'six'), (7, 'seven'), (8, 'eight'),\n",
    "        (9, 'nine')]\n",
    "\n",
    "mix = spark.createDataFrame(data, ['id', 'number'])\n",
    "\n",
    "\n",
    "mix.join(mix, \"id\", \"inner\").show()"
   ]
  },
  {
   "cell_type": "code",
   "execution_count": null,
   "id": "fba78078",
   "metadata": {},
   "outputs": [],
   "source": [
    "mix.join(F.broadcast(mix), \"id\", \"inner\").show()"
   ]
  },
  {
   "cell_type": "code",
   "execution_count": null,
   "id": "e8e9b360",
   "metadata": {},
   "outputs": [],
   "source": [
    "filtered = mix.where(F.col(\"number\") != \"six\")\n",
    "\n",
    "mix.join(filtered, \"id\", \"anti\").show()"
   ]
  },
  {
   "cell_type": "markdown",
   "id": "aa4fb250",
   "metadata": {},
   "source": [
    "### Count"
   ]
  },
  {
   "cell_type": "code",
   "execution_count": null,
   "id": "837402a0",
   "metadata": {},
   "outputs": [],
   "source": [
    "spark.read.csv('not_york_one_file', header=True).count()"
   ]
  },
  {
   "cell_type": "code",
   "execution_count": null,
   "id": "a4e7fb57",
   "metadata": {},
   "outputs": [],
   "source": [
    "total_rows = spark.read.csv('not_york_one_file', header=True).count()\n",
    "\n",
    "total_rows"
   ]
  },
  {
   "cell_type": "code",
   "execution_count": null,
   "id": "d77723e2",
   "metadata": {},
   "outputs": [],
   "source": [
    "df = spark.read.csv('not_york_one_file', header=True)\n",
    "df.count()"
   ]
  },
  {
   "cell_type": "markdown",
   "id": "d1c9bc17",
   "metadata": {},
   "source": [
    "### Cache | Persist"
   ]
  },
  {
   "cell_type": "code",
   "execution_count": null,
   "id": "2c6344db",
   "metadata": {},
   "outputs": [],
   "source": [
    "df = spark.read.csv('not_york_one_file', header=True)\n",
    "\n",
    "df.cache().count()"
   ]
  },
  {
   "cell_type": "code",
   "execution_count": null,
   "id": "f2be3547",
   "metadata": {},
   "outputs": [],
   "source": [
    "df.unpersist()"
   ]
  },
  {
   "cell_type": "code",
   "execution_count": null,
   "id": "eedfda2b",
   "metadata": {},
   "outputs": [],
   "source": [
    "from pyspark.storagelevel import StorageLevel\n",
    "\n",
    "df = spark.read.csv('not_york_one_file', header=True)\n",
    "\n",
    "df.persist(StorageLevel.DISK_ONLY).count()"
   ]
  },
  {
   "cell_type": "code",
   "execution_count": null,
   "id": "05b34014",
   "metadata": {},
   "outputs": [],
   "source": [
    "df.show()"
   ]
  },
  {
   "cell_type": "markdown",
   "id": "1384836e",
   "metadata": {},
   "source": [
    "### Functions"
   ]
  },
  {
   "cell_type": "code",
   "execution_count": null,
   "id": "ca736bd5",
   "metadata": {},
   "outputs": [],
   "source": [
    "df = spark.read.csv('not_york_one_file', header=True)\n",
    "\n",
    "df.select(\"brand\")\\\n",
    "        .distinct()\\\n",
    "        .orderBy(F.col(\"brand\").desc())\\\n",
    "        .show(truncate=False)"
   ]
  },
  {
   "cell_type": "code",
   "execution_count": null,
   "id": "628f89ae",
   "metadata": {},
   "outputs": [],
   "source": [
    "df.select(F.lower(\"brand\").alias(\"test_col\"))\\\n",
    "        .distinct()\\\n",
    "        .orderBy(F.col(\"brand\").asc())\\\n",
    "        .show(1, truncate=False)"
   ]
  },
  {
   "cell_type": "code",
   "execution_count": null,
   "id": "57480106",
   "metadata": {},
   "outputs": [],
   "source": [
    "one_row = df\\\n",
    "            .select(F.lower(\"brand\").alias(\"test_col\"))\\\n",
    "            .distinct()\\\n",
    "            .orderBy(F.col(\"test_col\").asc())\\\n",
    "            .limit(1)"
   ]
  },
  {
   "cell_type": "code",
   "execution_count": null,
   "id": "0086df81",
   "metadata": {},
   "outputs": [],
   "source": [
    "from pyspark.sql.types import *\n",
    "\n",
    "one_row = df\\\n",
    "            .select(F.lower(\"brand\").alias(\"test_col\"))\\\n",
    "            .distinct()\\\n",
    "            .orderBy(F.col(\"test_col\").asc())\\\n",
    "            .limit(1)\n",
    "\n",
    "\n",
    "schema = ArrayType(\n",
    "    StructType([\n",
    "        StructField(\"key\", StringType()),\n",
    "        StructField(\"value\", StringType())\n",
    "    ])\n",
    ")\n",
    "\n",
    "\n",
    "\n",
    "new_df = one_row\\\n",
    "            .withColumn(\"test\", F.from_json(\"test_col\", schema))\\\n",
    "            .withColumn(\"element\", F.explode(F.col(\"test\")))\n",
    "\n",
    "\n",
    "\n",
    "new_df.show(truncate=False)"
   ]
  },
  {
   "cell_type": "markdown",
   "id": "3c01daa1",
   "metadata": {},
   "source": [
    "### Save to CSV"
   ]
  },
  {
   "cell_type": "code",
   "execution_count": null,
   "id": "cc6a8858",
   "metadata": {},
   "outputs": [],
   "source": [
    "not_york_df = new_df\\\n",
    "                .where(''' brand != \"York\" ''')\\\n",
    "                .select('id',\n",
    "                        'actual_price',\n",
    "                        'average_rating',\n",
    "                        'brand')"
   ]
  },
  {
   "cell_type": "code",
   "execution_count": null,
   "id": "b3c14be2",
   "metadata": {},
   "outputs": [],
   "source": [
    "not_york_df.write.mode('overwrite').csv('not_york_csv', header=True)"
   ]
  },
  {
   "cell_type": "code",
   "execution_count": 33,
   "id": "032cf209",
   "metadata": {},
   "outputs": [],
   "source": [
    "spark.read.csv(f\"{PATH}datasets/customs_data.csv\").rdd.getNumPartitions()"
   ]
  },
  {
   "cell_type": "code",
   "execution_count": null,
   "id": "ba045b8c",
   "metadata": {},
   "outputs": [],
   "source": [
    "print(f'Степень параллелизма в not_york_df: {not_york_df.rdd.getNumPartitions()}')"
   ]
  },
  {
   "cell_type": "code",
   "execution_count": null,
   "id": "c86bac98",
   "metadata": {},
   "outputs": [],
   "source": [
    "ls -l not_york_csv"
   ]
  },
  {
   "cell_type": "code",
   "execution_count": null,
   "id": "1154bfbc",
   "metadata": {},
   "outputs": [],
   "source": [
    "not_york_one_file = not_york_df.coalesce(1)\n",
    "\n",
    "not_york_one_file.write.mode('overwrite').option(\"header\", \"true\").csv('not_york_one_file')"
   ]
  },
  {
   "cell_type": "code",
   "execution_count": null,
   "id": "1e170b8f",
   "metadata": {},
   "outputs": [],
   "source": [
    "ls -l not_york_one_file"
   ]
  },
  {
   "cell_type": "markdown",
   "id": "7e9566a5",
   "metadata": {},
   "source": [
    "### Repartition & Coalesce"
   ]
  },
  {
   "cell_type": "code",
   "execution_count": null,
   "id": "39c4a394",
   "metadata": {},
   "outputs": [],
   "source": [
    "data = [(1,'one'), (2,'two'), (3,'three'), (4,'four'),\n",
    "        (5,'five'), (6,'six'), (7, 'seven'), (8, 'eight'),\n",
    "        (9, 'nine')]\n",
    "\n",
    "df = spark.createDataFrame(data, ['id', 'number'])\n",
    "\n",
    "df.show()"
   ]
  },
  {
   "cell_type": "code",
   "execution_count": null,
   "id": "44e33bb0",
   "metadata": {},
   "outputs": [],
   "source": [
    "# Намеренно перемешаем и поделим на 8 разделов\n",
    "mix = df.repartition(8)\n",
    "mix.rdd.glom().collect()"
   ]
  },
  {
   "cell_type": "code",
   "execution_count": null,
   "id": "978ee041",
   "metadata": {},
   "outputs": [],
   "source": [
    "mix.repartition(3).rdd.glom().collect()"
   ]
  },
  {
   "cell_type": "code",
   "execution_count": null,
   "id": "1eb8bba2",
   "metadata": {},
   "outputs": [],
   "source": [
    "mix.coalesce(3).rdd.glom().collect()"
   ]
  },
  {
   "cell_type": "code",
   "execution_count": 27,
   "id": "255abe6f",
   "metadata": {},
   "outputs": [],
   "source": [
    "mix.toPandas().head()"
   ]
  }
 ],
 "metadata": {
  "kernelspec": {
   "display_name": "Python 3 (ipykernel)",
   "language": "python",
   "name": "python3"
  },
  "language_info": {
   "codemirror_mode": {
    "name": "ipython",
    "version": 3
   },
   "file_extension": ".py",
   "mimetype": "text/x-python",
   "name": "python",
   "nbconvert_exporter": "python",
   "pygments_lexer": "ipython3",
   "version": "3.10.9"
  }
 },
 "nbformat": 4,
 "nbformat_minor": 5
}
