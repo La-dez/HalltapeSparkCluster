{
 "cells": [
  {
   "cell_type": "markdown",
   "id": "02dbd35c-c05b-4e74-9cb5-a3fc2a0e5351",
   "metadata": {},
   "source": [
    "### Start SparkSession"
   ]
  },
  {
   "cell_type": "code",
   "execution_count": 1,
   "id": "9fcf1a3f-7641-4f37-9935-eb1cd80bf098",
   "metadata": {},
   "outputs": [
    {
     "name": "stderr",
     "output_type": "stream",
     "text": [
      "Setting default log level to \"WARN\".\n",
      "To adjust logging level use sc.setLogLevel(newLevel). For SparkR, use setLogLevel(newLevel).\n",
      "24/11/29 16:18:33 WARN NativeCodeLoader: Unable to load native-hadoop library for your platform... using builtin-java classes where applicable\n"
     ]
    },
    {
     "name": "stdout",
     "output_type": "stream",
     "text": [
      "Активные Spark сессии: http://macbookpro:4040\n"
     ]
    }
   ],
   "source": [
    "from pyspark.sql import SparkSession\n",
    "import pyspark.sql.functions as F\n",
    "\n",
    "\n",
    "spark = SparkSession \\\n",
    "            .builder \\\n",
    "            .appName(\"halltape_pyspark_local\") \\\n",
    "    .getOrCreate()\n",
    "\n",
    "\n",
    "print(\"Активные Spark сессии:\", spark.sparkContext.uiWebUrl)"
   ]
  },
  {
   "cell_type": "markdown",
   "id": "0f81f1bb-00ec-4840-8998-0d2056e81e26",
   "metadata": {},
   "source": [
    "### Read"
   ]
  },
  {
   "cell_type": "code",
   "execution_count": 20,
   "id": "4e72cd71",
   "metadata": {},
   "outputs": [
    {
     "name": "stdout",
     "output_type": "stream",
     "text": [
      "+--------------------+\n",
      "|                 _c0|\n",
      "+--------------------+\n",
      "|; id;actual PRICE...|\n",
      "|0;fa8e22d6-c0b6-5...|\n",
      "|1;893e6980-f2a0-5...|\n",
      "|2;eb4c8eab-8206-5...|\n",
      "|3;3f3f97bb-5faf-5...|\n",
      "|4;750caa3d-6264-5...|\n",
      "|5;9af4ac75-230b-5...|\n",
      "|6;1b1d40cc-4eaa-5...|\n",
      "|7;a33cf2e2-c5e4-5...|\n",
      "|8;ab4f0cca-6a84-5...|\n",
      "|9;f8a91e89-c5db-5...|\n",
      "|10;002b976d-e1b3-...|\n",
      "|11;1259d286-33b5-...|\n",
      "|12;79ed89b0-1e6e-...|\n",
      "|13;798fb84a-9a86-...|\n",
      "|14;f764aca2-e9c4-...|\n",
      "|15;05301848-4de8-...|\n",
      "|16;6b303174-c28d-...|\n",
      "|17;420f2354-2c8e-...|\n",
      "|18;c8f15cb0-3465-...|\n",
      "+--------------------+\n",
      "only showing top 20 rows\n",
      "\n"
     ]
    }
   ],
   "source": [
    "spark.read.csv('data/output.csv').show()"
   ]
  },
  {
   "cell_type": "code",
   "execution_count": 12,
   "id": "83700e6c",
   "metadata": {},
   "outputs": [
    {
     "name": "stdout",
     "output_type": "stream",
     "text": [
      "+---+--------------------+------------+--------------+-----+--------------------+--------------------+-----------+--------------------+--------------------+------------+----------------+--------------------+-----------------+-------------+-------------+--------------------+--------------------+\n",
      "|_c0|                  id|actual PRICE|average rating|brand|            category|          crawled at|description|            discount|         Изображение|out of stock|             pid|     product details|           seller|selling price|sub  category|              TITLE |                 url|\n",
      "+---+--------------------+------------+--------------+-----+--------------------+--------------------+-----------+--------------------+--------------------+------------+----------------+--------------------+-----------------+-------------+-------------+--------------------+--------------------+\n",
      "|  0|fa8e22d6-c0b6-522...|       2,999|           3.9| York|Clothing and Acce...|02/10/2021, 20:11:51|    69% off|Yorker trackpants...|['https://rukmini...|        ЛОЖЬ|TKPFCZ9EA7H5FYZH|[{'Style Code': '...|Shyam Enterprises|          921|   Bottomwear|Solid Men Multico...|https://www.flipk...|\n",
      "|  1|893e6980-f2a0-531...|       1,499|           3.9| York|Clothing and Acce...|02/10/2021, 20:11:52|    66% off|Yorker trackpants...|['https://rukmini...|        ЛОЖЬ|TKPFCZ9EJZV2UVRZ|[{'Style Code': '...|Shyam Enterprises|          499|   Bottomwear|Solid Men Blue Tr...|https://www.flipk...|\n",
      "|  2|eb4c8eab-8206-59d...|       2,999|           3.9| York|Clothing and Acce...|02/10/2021, 20:11:52|    68% off|Yorker trackpants...|['https://rukmini...|        ЛОЖЬ|TKPFCZ9EHFCY5Z4Y|[{'Style Code': '...|Shyam Enterprises|          931|   Bottomwear|Solid Men Multico...|https://www.flipk...|\n",
      "|  3|3f3f97bb-5faf-57d...|       2,999|           3.9| York|Clothing and Acce...|02/10/2021, 20:11:53|    69% off|Yorker trackpants...|['https://rukmini...|        ЛОЖЬ|TKPFCZ9ESZZ7YWEF|[{'Style Code': '...|Shyam Enterprises|          911|   Bottomwear|Solid Men Multico...|https://www.flipk...|\n",
      "|  4|750caa3d-6264-53c...|       2,999|           3.9| York|Clothing and Acce...|02/10/2021, 20:11:53|    68% off|Yorker trackpants...|['https://rukmini...|        ЛОЖЬ|TKPFCZ9EVXKBSUD7|[{'Style Code': '...|Shyam Enterprises|          943|   Bottomwear|Solid Men Brown, ...|https://www.flipk...|\n",
      "+---+--------------------+------------+--------------+-----+--------------------+--------------------+-----------+--------------------+--------------------+------------+----------------+--------------------+-----------------+-------------+-------------+--------------------+--------------------+\n",
      "only showing top 5 rows\n",
      "\n"
     ]
    },
    {
     "name": "stderr",
     "output_type": "stream",
     "text": [
      "24/11/29 16:34:10 WARN CSVHeaderChecker: CSV header does not conform to the schema.\n",
      " Header: ,  id, actual PRICE, average rating, brand, category, crawled at, description, discount, Изображение, out of stock, pid, product details, seller, selling price, sub  category, TITLE , url\n",
      " Schema: _c0,  id, actual PRICE, average rating, brand, category, crawled at, description, discount, Изображение, out of stock, pid, product details, seller, selling price, sub  category, TITLE , url\n",
      "Expected: _c0 but found: \n",
      "CSV file: file:///Users/halltape/Desktop/CODE/github/HalltapeSparkCluster/build/workspace/data/output.csv\n"
     ]
    }
   ],
   "source": [
    "spark.read.csv('data/output.csv', sep=';', header=True).show(5)"
   ]
  },
  {
   "cell_type": "code",
   "execution_count": 16,
   "id": "c56bfb26-13e6-4fa5-9e9b-a254a8652c87",
   "metadata": {},
   "outputs": [
    {
     "name": "stdout",
     "output_type": "stream",
     "text": [
      "+--------------------+------------+--------------+-----+--------------------+--------------------+-----------+--------------------+--------------------+------------+----------------+--------------------+-----------------+-------------+-------------+--------------------+--------------------+\n",
      "|                  id|actual PRICE|average rating|brand|            category|          crawled at|description|            discount|         Изображение|out of stock|             pid|     product details|           seller|selling price|sub  category|              TITLE |                 url|\n",
      "+--------------------+------------+--------------+-----+--------------------+--------------------+-----------+--------------------+--------------------+------------+----------------+--------------------+-----------------+-------------+-------------+--------------------+--------------------+\n",
      "|fa8e22d6-c0b6-522...|       2,999|           3.9| York|Clothing and Acce...|02/10/2021, 20:11:51|    69% off|Yorker trackpants...|['https://rukmini...|        ЛОЖЬ|TKPFCZ9EA7H5FYZH|[{'Style Code': '...|Shyam Enterprises|          921|   Bottomwear|Solid Men Multico...|https://www.flipk...|\n",
      "|893e6980-f2a0-531...|       1,499|           3.9| York|Clothing and Acce...|02/10/2021, 20:11:52|    66% off|Yorker trackpants...|['https://rukmini...|        ЛОЖЬ|TKPFCZ9EJZV2UVRZ|[{'Style Code': '...|Shyam Enterprises|          499|   Bottomwear|Solid Men Blue Tr...|https://www.flipk...|\n",
      "|eb4c8eab-8206-59d...|       2,999|           3.9| York|Clothing and Acce...|02/10/2021, 20:11:52|    68% off|Yorker trackpants...|['https://rukmini...|        ЛОЖЬ|TKPFCZ9EHFCY5Z4Y|[{'Style Code': '...|Shyam Enterprises|          931|   Bottomwear|Solid Men Multico...|https://www.flipk...|\n",
      "|3f3f97bb-5faf-57d...|       2,999|           3.9| York|Clothing and Acce...|02/10/2021, 20:11:53|    69% off|Yorker trackpants...|['https://rukmini...|        ЛОЖЬ|TKPFCZ9ESZZ7YWEF|[{'Style Code': '...|Shyam Enterprises|          911|   Bottomwear|Solid Men Multico...|https://www.flipk...|\n",
      "|750caa3d-6264-53c...|       2,999|           3.9| York|Clothing and Acce...|02/10/2021, 20:11:53|    68% off|Yorker trackpants...|['https://rukmini...|        ЛОЖЬ|TKPFCZ9EVXKBSUD7|[{'Style Code': '...|Shyam Enterprises|          943|   Bottomwear|Solid Men Brown, ...|https://www.flipk...|\n",
      "+--------------------+------------+--------------+-----+--------------------+--------------------+-----------+--------------------+--------------------+------------+----------------+--------------------+-----------------+-------------+-------------+--------------------+--------------------+\n",
      "only showing top 5 rows\n",
      "\n"
     ]
    }
   ],
   "source": [
    "df = spark.read.csv('data/output.csv', sep=';', header=True).drop('_c0')\n",
    "\n",
    "df.show(5)"
   ]
  },
  {
   "cell_type": "code",
   "execution_count": 17,
   "id": "9c9440ab",
   "metadata": {},
   "outputs": [
    {
     "name": "stdout",
     "output_type": "stream",
     "text": [
      "-RECORD 0----------------------------------------------------------------------------------------------------------------------------------------------------------------------------------------------------------------------------------------------------------------------------------------------------------------\n",
      "  id             | fa8e22d6-c0b6-5229-bb9e-ad52eda39a0a                                                                                                                                                                                                                                                                  \n",
      " actual PRICE    | 2,999                                                                                                                                                                                                                                                                                                 \n",
      " average rating  | 3.9                                                                                                                                                                                                                                                                                                   \n",
      " brand           | York                                                                                                                                                                                                                                                                                                  \n",
      " category        | Clothing and Accessories                                                                                                                                                                                                                                                                              \n",
      " crawled at      | 02/10/2021, 20:11:51                                                                                                                                                                                                                                                                                  \n",
      " description     | 69% off                                                                                                                                                                                                                                                                                               \n",
      " discount        | Yorker trackpants made from 100% rich combed cotton giving it a rich look.Designed for Comfort,Skin friendly fabric,itch-free waistband & great for all year round use Proudly made in India                                                                                                          \n",
      " Изображение     | ['https://rukminim1.flixcart.com/image/128/128/jr3t5e80/track-pant/z/y/n/m-1005combo2-yorker-original-imafczg3xfh5qqd4.jpeg?q=70', 'https://rukminim1.flixcart.com/image/128/128/jr58l8w0/track-pant/w/d/a/l-1005combo8-yorker-original-imafczg3pgtxgraq.jpeg?q=70']                                  \n",
      " out of stock    | ЛОЖЬ                                                                                                                                                                                                                                                                                                  \n",
      " pid             | TKPFCZ9EA7H5FYZH                                                                                                                                                                                                                                                                                      \n",
      " product details | [{'Style Code': '1005COMBO2'}, {'Closure': 'Elastic'}, {'Pockets': 'Side Pockets'}, {'Fabric': 'Cotton Blend'}, {'Pattern': 'Solid'}, {'Color': 'Multicolor'}]                                                                                                                                        \n",
      " seller          | Shyam Enterprises                                                                                                                                                                                                                                                                                     \n",
      " selling price   | 921                                                                                                                                                                                                                                                                                                   \n",
      " sub  category   | Bottomwear                                                                                                                                                                                                                                                                                            \n",
      " TITLE           | Solid Men Multicolor Track Pants                                                                                                                                                                                                                                                                      \n",
      " url             | https://www.flipkart.com/yorker-solid-men-multicolor-track-pants/p/itmd2c76aadce459?pid=TKPFCZ9EA7H5FYZH&lid=LSTTKPFCZ9EA7H5FYZHVYXWP0&marketplace=FLIPKART&srno=b_1_1&otracker=browse&fm=organic&iid=177a46eb-d053-4732-b3de-fcad6ff59cbd.TKPFCZ9EA7H5FYZH.SEARCH&ssid=utkd4t3gb40000001612415717799 \n",
      "-RECORD 1----------------------------------------------------------------------------------------------------------------------------------------------------------------------------------------------------------------------------------------------------------------------------------------------------------------\n",
      "  id             | 893e6980-f2a0-531f-b056-34dd63fe912c                                                                                                                                                                                                                                                                  \n",
      " actual PRICE    | 1,499                                                                                                                                                                                                                                                                                                 \n",
      " average rating  | 3.9                                                                                                                                                                                                                                                                                                   \n",
      " brand           | York                                                                                                                                                                                                                                                                                                  \n",
      " category        | Clothing and Accessories                                                                                                                                                                                                                                                                              \n",
      " crawled at      | 02/10/2021, 20:11:52                                                                                                                                                                                                                                                                                  \n",
      " description     | 66% off                                                                                                                                                                                                                                                                                               \n",
      " discount        | Yorker trackpants made from 100% rich combed cotton giving it a rich look.Designed for Comfort,Skin friendly fabric,itch-free waistband & great for all year round use Proudly made in India                                                                                                          \n",
      " Изображение     | ['https://rukminim1.flixcart.com/image/128/128/kfyasnk0/track-pant/g/5/y/s-19876-yorker-original-imafwamyzrwjynkf.jpeg?q=70', 'https://rukminim1.flixcart.com/image/128/128/kfyasnk0/track-pant/g/5/y/s-19876-yorker-original-imafwamynyeuu5zq.jpeg?q=70']                                            \n",
      " out of stock    | ЛОЖЬ                                                                                                                                                                                                                                                                                                  \n",
      " pid             | TKPFCZ9EJZV2UVRZ                                                                                                                                                                                                                                                                                      \n",
      " product details | [{'Style Code': '1005BLUE'}, {'Closure': 'Drawstring, Elastic'}, {'Pockets': 'Side Pockets'}, {'Fabric': 'Cotton Blend'}, {'Pattern': 'Solid'}, {'Color': 'Blue'}]                                                                                                                                    \n",
      " seller          | Shyam Enterprises                                                                                                                                                                                                                                                                                     \n",
      " selling price   | 499                                                                                                                                                                                                                                                                                                   \n",
      " sub  category   | Bottomwear                                                                                                                                                                                                                                                                                            \n",
      " TITLE           | Solid Men Blue Track Pants                                                                                                                                                                                                                                                                            \n",
      " url             | https://www.flipkart.com/yorker-solid-men-blue-track-pants/p/itmfczez7v6rzwer?pid=TKPFCZ9EJZV2UVRZ&lid=LSTTKPFCZ9EJZV2UVRZ9HEITU&marketplace=FLIPKART&srno=b_1_2&otracker=browse&fm=organic&iid=177a46eb-d053-4732-b3de-fcad6ff59cbd.TKPFCZ9EJZV2UVRZ.SEARCH&ssid=utkd4t3gb40000001612415717799       \n",
      "only showing top 2 rows\n",
      "\n"
     ]
    }
   ],
   "source": [
    "df.show(2, False, True)"
   ]
  },
  {
   "cell_type": "code",
   "execution_count": null,
   "id": "ccaf84d9-46e3-484d-bb00-67c815628c60",
   "metadata": {},
   "outputs": [],
   "source": [
    "### PrintSchema"
   ]
  },
  {
   "cell_type": "code",
   "execution_count": 18,
   "id": "21a90f1c",
   "metadata": {},
   "outputs": [
    {
     "name": "stdout",
     "output_type": "stream",
     "text": [
      "root\n",
      " |--  id: string (nullable = true)\n",
      " |-- actual PRICE: string (nullable = true)\n",
      " |-- average rating: string (nullable = true)\n",
      " |-- brand: string (nullable = true)\n",
      " |-- category: string (nullable = true)\n",
      " |-- crawled at: string (nullable = true)\n",
      " |-- description: string (nullable = true)\n",
      " |-- discount: string (nullable = true)\n",
      " |-- Изображение: string (nullable = true)\n",
      " |-- out of stock: string (nullable = true)\n",
      " |-- pid: string (nullable = true)\n",
      " |-- product details: string (nullable = true)\n",
      " |-- seller: string (nullable = true)\n",
      " |-- selling price: string (nullable = true)\n",
      " |-- sub  category: string (nullable = true)\n",
      " |-- TITLE : string (nullable = true)\n",
      " |-- url: string (nullable = true)\n",
      "\n"
     ]
    }
   ],
   "source": [
    "df.printSchema()"
   ]
  },
  {
   "cell_type": "code",
   "execution_count": 28,
   "id": "f263951f-5f95-4446-8136-5642004946e1",
   "metadata": {},
   "outputs": [
    {
     "name": "stdout",
     "output_type": "stream",
     "text": [
      "['id', 'actual_price', 'average_rating', 'brand', 'category', 'crawled_at', 'description', 'discount', 'изображение', 'out_of_stock', 'pid', 'product_details', 'seller', 'selling_price', 'sub__category', 'title', 'url']\n"
     ]
    }
   ],
   "source": [
    "df.columns\n",
    "\n",
    "new_columns = []\n",
    "\n",
    "\n",
    "for column in df.columns:\n",
    "    new_columns.append(column.strip().lower().replace(\" \", \"_\"))\n",
    "\n",
    "print(new_columns)"
   ]
  },
  {
   "cell_type": "code",
   "execution_count": 37,
   "id": "7c9ebb5a",
   "metadata": {},
   "outputs": [
    {
     "data": {
      "text/plain": [
       "['id',\n",
       " 'actual_price',\n",
       " 'average_rating',\n",
       " 'brand',\n",
       " 'category',\n",
       " 'crawled_at',\n",
       " 'description',\n",
       " 'discount',\n",
       " 'изображение',\n",
       " 'out_of_stock',\n",
       " 'pid',\n",
       " 'product_details',\n",
       " 'seller',\n",
       " 'selling_price',\n",
       " 'sub__category',\n",
       " 'title',\n",
       " 'url']"
      ]
     },
     "execution_count": 37,
     "metadata": {},
     "output_type": "execute_result"
    }
   ],
   "source": [
    "new_df = df.toDF(*new_columns)\n",
    "new_df.columns"
   ]
  },
  {
   "cell_type": "code",
   "execution_count": 38,
   "id": "ccf633ef-415f-417d-b3b8-fb56b5109029",
   "metadata": {},
   "outputs": [
    {
     "data": {
      "text/plain": [
       "['id',\n",
       " 'actual_price',\n",
       " 'average_rating',\n",
       " 'brand',\n",
       " 'category',\n",
       " 'crawled_at',\n",
       " 'description',\n",
       " 'discount',\n",
       " 'image',\n",
       " 'out_of_stock',\n",
       " 'pid',\n",
       " 'product_details',\n",
       " 'seller',\n",
       " 'selling_price',\n",
       " 'sub_category',\n",
       " 'title',\n",
       " 'url']"
      ]
     },
     "execution_count": 38,
     "metadata": {},
     "output_type": "execute_result"
    }
   ],
   "source": [
    "result = new_df\\\n",
    "        .withColumnRenamed(\"sub__category\", \"sub_category\")\\\n",
    "        .withColumnRenamed(\"изображение\", \"image\")\n",
    "\n",
    "result.columns"
   ]
  },
  {
   "cell_type": "markdown",
   "id": "8464d803",
   "metadata": {},
   "source": [
    "### Select"
   ]
  },
  {
   "cell_type": "code",
   "execution_count": null,
   "id": "3b7632fc",
   "metadata": {},
   "outputs": [],
   "source": [
    "new_df.select('id', 'actual_price', 'average_rating', 'brand').show(4, truncate=False)"
   ]
  },
  {
   "cell_type": "markdown",
   "id": "230b564c-86f8-4633-a5ff-5cf8da7b6eea",
   "metadata": {},
   "source": [
    "### Save to CSV"
   ]
  },
  {
   "cell_type": "code",
   "execution_count": null,
   "id": "b8401bf5-6390-4d13-aa12-7a066616ca60",
   "metadata": {},
   "outputs": [],
   "source": [
    "\n",
    "\n",
    "not_york_df.write.mode('overwrite').csv('not_york_csv', header=True)\n",
    "spark.read.csv(f\"{PATH}datasets/customs_data.csv\").rdd.getNumPartitions()\n",
    "print(f'Степень параллелизма в not_york_df: {not_york_df.rdd.getNumPartitions()}')\n",
    "ls -l not_york_csv\n",
    "not_york_one_file = not_york_df.coalesce(1)\n",
    "\n",
    "not_york_one_file.write.mode('overwrite').option(\"header\", \"true\").csv('not_york_one_file')\n",
    "ls -l not_york_one_file"
   ]
  },
  {
   "cell_type": "markdown",
   "id": "7bd757ea",
   "metadata": {},
   "source": [
    "### Filter"
   ]
  },
  {
   "cell_type": "code",
   "execution_count": null,
   "id": "cf02c21f",
   "metadata": {},
   "outputs": [],
   "source": [
    "new_df.where(''' brand != \"York\" ''')\\\n",
    "    .select('id', 'actual_price', 'average_rating', 'brand')\\\n",
    "    .show(10, truncate=False)\n",
    "\n",
    "\n",
    "\n",
    "new_df.where(F.col(\"brand\") != \"York\")\\\n",
    "    .select('id', 'actual_price', 'average_rating', 'brand')\\\n",
    "    .show(10, truncate=False)"
   ]
  },
  {
   "cell_type": "markdown",
   "id": "022f5468",
   "metadata": {},
   "source": [
    "### JOIN"
   ]
  },
  {
   "cell_type": "code",
   "execution_count": null,
   "id": "a7d9203a",
   "metadata": {},
   "outputs": [],
   "source": [
    "data = [(1,'one'), (2,'two'), (3,'three'), (4,'four'),\n",
    "        (5,'five'), (6,'six'), (7, 'seven'), (8, 'eight'),\n",
    "        (9, 'nine')]\n",
    "\n",
    "mix = spark.createDataFrame(data, ['id', 'number'])\n",
    "\n",
    "\n",
    "mix.join(mix, \"id\", \"inner\").show()"
   ]
  },
  {
   "cell_type": "code",
   "execution_count": null,
   "id": "fba78078",
   "metadata": {},
   "outputs": [],
   "source": [
    "mix.join(F.broadcast(mix), \"id\", \"inner\").show()"
   ]
  },
  {
   "cell_type": "code",
   "execution_count": null,
   "id": "e8e9b360",
   "metadata": {},
   "outputs": [],
   "source": [
    "filtered = mix.where(F.col(\"number\") != \"six\")\n",
    "\n",
    "mix.join(filtered, \"id\", \"anti\").show()"
   ]
  },
  {
   "cell_type": "markdown",
   "id": "aa4fb250",
   "metadata": {},
   "source": [
    "### Count"
   ]
  },
  {
   "cell_type": "code",
   "execution_count": null,
   "id": "837402a0",
   "metadata": {},
   "outputs": [],
   "source": [
    "spark.read.csv('not_york_one_file', header=True).count()"
   ]
  },
  {
   "cell_type": "code",
   "execution_count": null,
   "id": "a4e7fb57",
   "metadata": {},
   "outputs": [],
   "source": [
    "total_rows = spark.read.csv('not_york_one_file', header=True).count()\n",
    "\n",
    "total_rows"
   ]
  },
  {
   "cell_type": "code",
   "execution_count": null,
   "id": "d77723e2",
   "metadata": {},
   "outputs": [],
   "source": [
    "df = spark.read.csv('not_york_one_file', header=True)\n",
    "df.count()"
   ]
  },
  {
   "cell_type": "markdown",
   "id": "d1c9bc17",
   "metadata": {},
   "source": [
    "### Cache | Persist"
   ]
  },
  {
   "cell_type": "code",
   "execution_count": null,
   "id": "2c6344db",
   "metadata": {},
   "outputs": [],
   "source": [
    "df = spark.read.csv('not_york_one_file', header=True)\n",
    "\n",
    "df.cache().count()"
   ]
  },
  {
   "cell_type": "code",
   "execution_count": null,
   "id": "f2be3547",
   "metadata": {},
   "outputs": [],
   "source": [
    "df.unpersist()"
   ]
  },
  {
   "cell_type": "code",
   "execution_count": null,
   "id": "eedfda2b",
   "metadata": {},
   "outputs": [],
   "source": [
    "from pyspark.storagelevel import StorageLevel\n",
    "\n",
    "df = spark.read.csv('not_york_one_file', header=True)\n",
    "\n",
    "df.persist(StorageLevel.DISK_ONLY).count()"
   ]
  },
  {
   "cell_type": "code",
   "execution_count": null,
   "id": "05b34014",
   "metadata": {},
   "outputs": [],
   "source": [
    "df.show()"
   ]
  },
  {
   "cell_type": "markdown",
   "id": "1384836e",
   "metadata": {},
   "source": [
    "### Functions"
   ]
  },
  {
   "cell_type": "code",
   "execution_count": null,
   "id": "ca736bd5",
   "metadata": {},
   "outputs": [],
   "source": [
    "df = spark.read.csv('not_york_one_file', header=True)\n",
    "\n",
    "df.select(\"brand\")\\\n",
    "        .distinct()\\\n",
    "        .orderBy(F.col(\"brand\").desc())\\\n",
    "        .show(truncate=False)"
   ]
  },
  {
   "cell_type": "code",
   "execution_count": null,
   "id": "628f89ae",
   "metadata": {},
   "outputs": [],
   "source": [
    "df.select(F.lower(\"brand\").alias(\"test_col\"))\\\n",
    "        .distinct()\\\n",
    "        .orderBy(F.col(\"brand\").asc())\\\n",
    "        .show(1, truncate=False)"
   ]
  },
  {
   "cell_type": "code",
   "execution_count": null,
   "id": "57480106",
   "metadata": {},
   "outputs": [],
   "source": [
    "one_row = df\\\n",
    "            .select(F.lower(\"brand\").alias(\"test_col\"))\\\n",
    "            .distinct()\\\n",
    "            .orderBy(F.col(\"test_col\").asc())\\\n",
    "            .limit(1)"
   ]
  },
  {
   "cell_type": "code",
   "execution_count": null,
   "id": "0086df81",
   "metadata": {},
   "outputs": [],
   "source": [
    "from pyspark.sql.types import *\n",
    "\n",
    "one_row = df\\\n",
    "            .select(F.lower(\"brand\").alias(\"test_col\"))\\\n",
    "            .distinct()\\\n",
    "            .orderBy(F.col(\"test_col\").asc())\\\n",
    "            .limit(1)\n",
    "\n",
    "\n",
    "schema = ArrayType(\n",
    "    StructType([\n",
    "        StructField(\"key\", StringType()),\n",
    "        StructField(\"value\", StringType())\n",
    "    ])\n",
    ")\n",
    "\n",
    "\n",
    "\n",
    "new_df = one_row\\\n",
    "            .withColumn(\"test\", F.from_json(\"test_col\", schema))\\\n",
    "            .withColumn(\"element\", F.explode(F.col(\"test\")))\n",
    "\n",
    "\n",
    "\n",
    "new_df.show(truncate=False)"
   ]
  },
  {
   "cell_type": "markdown",
   "id": "7e9566a5",
   "metadata": {},
   "source": [
    "### Repartition & Coalesce"
   ]
  },
  {
   "cell_type": "code",
   "execution_count": null,
   "id": "39c4a394",
   "metadata": {},
   "outputs": [],
   "source": [
    "data = [(1,'one'), (2,'two'), (3,'three'), (4,'four'),\n",
    "        (5,'five'), (6,'six'), (7, 'seven'), (8, 'eight'),\n",
    "        (9, 'nine')]\n",
    "\n",
    "df = spark.createDataFrame(data, ['id', 'number'])\n",
    "\n",
    "df.show()"
   ]
  },
  {
   "cell_type": "code",
   "execution_count": null,
   "id": "44e33bb0",
   "metadata": {},
   "outputs": [],
   "source": [
    "# Намеренно перемешаем и поделим на 8 разделов\n",
    "mix = df.repartition(8)\n",
    "mix.rdd.glom().collect()"
   ]
  },
  {
   "cell_type": "code",
   "execution_count": null,
   "id": "978ee041",
   "metadata": {},
   "outputs": [],
   "source": [
    "mix.repartition(3).rdd.glom().collect()"
   ]
  },
  {
   "cell_type": "code",
   "execution_count": null,
   "id": "1eb8bba2",
   "metadata": {},
   "outputs": [],
   "source": [
    "mix.coalesce(3).rdd.glom().collect()"
   ]
  },
  {
   "cell_type": "code",
   "execution_count": 27,
   "id": "255abe6f",
   "metadata": {},
   "outputs": [],
   "source": [
    "mix.toPandas().head()"
   ]
  }
 ],
 "metadata": {
  "kernelspec": {
   "display_name": "Python 3 (ipykernel)",
   "language": "python",
   "name": "python3"
  },
  "language_info": {
   "codemirror_mode": {
    "name": "ipython",
    "version": 3
   },
   "file_extension": ".py",
   "mimetype": "text/x-python",
   "name": "python",
   "nbconvert_exporter": "python",
   "pygments_lexer": "ipython3",
   "version": "3.10.9"
  }
 },
 "nbformat": 4,
 "nbformat_minor": 5
}
