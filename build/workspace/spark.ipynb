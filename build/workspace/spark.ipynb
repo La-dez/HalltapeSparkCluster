{
 "cells": [
  {
   "cell_type": "markdown",
   "id": "02dbd35c-c05b-4e74-9cb5-a3fc2a0e5351",
   "metadata": {},
   "source": [
    "### Start SparkSession"
   ]
  },
  {
   "cell_type": "code",
   "execution_count": 202,
   "id": "9fcf1a3f-7641-4f37-9935-eb1cd80bf098",
   "metadata": {},
   "outputs": [
    {
     "name": "stdout",
     "output_type": "stream",
     "text": [
      "Активные Spark сессии: http://macbookpro:4040\n"
     ]
    }
   ],
   "source": [
    "from pyspark.sql import SparkSession\n",
    "import pyspark.sql.functions as F\n",
    "\n",
    "\n",
    "spark = SparkSession \\\n",
    "            .builder \\\n",
    "            .appName(\"halltape_pyspark_local\") \\\n",
    "    .getOrCreate()\n",
    "\n",
    "\n",
    "print(\"Активные Spark сессии:\", spark.sparkContext.uiWebUrl)"
   ]
  },
  {
   "cell_type": "markdown",
   "id": "0f81f1bb-00ec-4840-8998-0d2056e81e26",
   "metadata": {},
   "source": [
    "### Read"
   ]
  },
  {
   "cell_type": "code",
   "execution_count": 122,
   "id": "0ba3e918-5f3e-4371-bc29-f4396f095651",
   "metadata": {},
   "outputs": [
    {
     "name": "stderr",
     "output_type": "stream",
     "text": [
      "24/11/29 18:55:43 WARN WindowExec: No Partition Defined for Window operation! Moving all data to a single partition, this can cause serious performance degradation.\n",
      "24/11/29 18:55:43 WARN WindowExec: No Partition Defined for Window operation! Moving all data to a single partition, this can cause serious performance degradation.\n",
      "24/11/29 18:55:43 WARN WindowExec: No Partition Defined for Window operation! Moving all data to a single partition, this can cause serious performance degradation.\n",
      "24/11/29 18:55:43 WARN CSVHeaderChecker: CSV header does not conform to the schema.\n",
      " Header: ,  id, actual PRICE, average rating, brand, category, description, discount, Изображение, out of stock, pid, product details, seller, selling price, sub  category, TITLE , url\n",
      " Schema: _c0,  id, actual PRICE, average rating, brand, category, description, discount, Изображение, out of stock, pid, product details, seller, selling price, sub  category, TITLE , url\n",
      "Expected: _c0 but found: \n",
      "CSV file: file:///Users/halltape/Desktop/CODE/github/HalltapeSparkCluster/build/workspace/data/output.csv\n",
      "24/11/29 18:55:43 WARN WindowExec: No Partition Defined for Window operation! Moving all data to a single partition, this can cause serious performance degradation.\n",
      "24/11/29 18:55:43 WARN WindowExec: No Partition Defined for Window operation! Moving all data to a single partition, this can cause serious performance degradation.\n",
      "                                                                                "
     ]
    }
   ],
   "source": [
    "from pyspark.sql import SparkSession\n",
    "from pyspark.sql.functions import col, when, row_number\n",
    "from pyspark.sql.window import Window\n",
    "from datetime import datetime, timedelta\n",
    "\n",
    "# Создание Spark сессии\n",
    "spark = SparkSession.builder.appName(\"Example\").getOrCreate()\n",
    "\n",
    "# Пример создания DataFrame (замените на ваш)\n",
    "df = spark.read.csv('data/output.csv', sep=';', header=True)\n",
    "\n",
    "# Определяем четыре разные даты\n",
    "dates = [\n",
    "    datetime(2024, 1, 1),\n",
    "    datetime(2024, 2, 1),\n",
    "    datetime(2024, 3, 1),\n",
    "    datetime(2024, 4, 1)\n",
    "]\n",
    "\n",
    "# Создаем окно для нумерации строк\n",
    "window_spec = Window.orderBy(\"pid\")\n",
    "\n",
    "# Добавляем колонку с номером строки\n",
    "df_with_row_num = df.withColumn(\"row_num\", row_number().over(window_spec))\n",
    "\n",
    "# Добавляем новую колонку с датами на основе номера строки\n",
    "df_final = df_with_row_num.withColumn(\n",
    "    \"date\",\n",
    "    when(col(\"row_num\") % 4 == 1, dates[0])\n",
    "    .when(col(\"row_num\") % 4 == 2, dates[1])\n",
    "    .when(col(\"row_num\") % 4 == 3, dates[2])\n",
    "    .when(col(\"row_num\") % 4 == 0, dates[3])\n",
    ")\n",
    "\n",
    "# Удаляем временную колонку row_num\n",
    "df_final = df_final.drop(\"row_num\", \"crawled at\")\n",
    "\n",
    "# Показать результат\n",
    "\n",
    "\n",
    "df_final.write.format('csv').options(header='True', delimiter=';') \\\n",
    " .csv(\"data/output_data\")"
   ]
  },
  {
   "cell_type": "code",
   "execution_count": null,
   "id": "54773336-ddb3-40b1-bd39-c2655c5cc086",
   "metadata": {},
   "outputs": [],
   "source": []
  },
  {
   "cell_type": "code",
   "execution_count": 123,
   "id": "4e72cd71",
   "metadata": {},
   "outputs": [
    {
     "name": "stdout",
     "output_type": "stream",
     "text": [
      "+--------------------+\n",
      "|                 _c0|\n",
      "+--------------------+\n",
      "|_c0;id;actual PRI...|\n",
      "|299;17142be6-72a0...|\n",
      "|\"going strong. Th...|\n",
      "|308;c839dcbf-4218...|\n",
      "|\"going strong. Th...|\n",
      "|312;9ac18a59-6085...|\n",
      "|\"going strong. Th...|\n",
      "|355;3d42a088-ba2c...|\n",
      "|World is full of ...|\n",
      "|\"100% Cotton, Sli...|\n",
      "|358;91c7ccd4-06e6...|\n",
      "|\"100% Cotton, Reg...|\n",
      "|364;bb3690f3-ec5f...|\n",
      "|\"World is full of...|\n",
      "|378;194f3f3a-c3b2...|\n",
      "|\"World is full of...|\n",
      "|393;cf00407e-716a...|\n",
      "|\"World is full of...|\n",
      "|395;6ab2fa7b-d04d...|\n",
      "|\"World is full of...|\n",
      "+--------------------+\n",
      "only showing top 20 rows\n",
      "\n"
     ]
    }
   ],
   "source": [
    "spark.read.csv('data/output_data.csv').show()"
   ]
  },
  {
   "cell_type": "code",
   "execution_count": 124,
   "id": "83700e6c",
   "metadata": {},
   "outputs": [
    {
     "name": "stdout",
     "output_type": "stream",
     "text": [
      "+--------------------+--------------------+------------+----------------+--------------------+--------------------+-----------+--------------------+--------------------+------------+----+---------------+------+-------------+-------------+-----+----+--------------------+\n",
      "|                 _c0|                  id|actual PRICE|  average rating|               brand|            category|description|            discount|         Изображение|out of stock| pid|product details|seller|selling price|sub  category|TITLE| url|                date|\n",
      "+--------------------+--------------------+------------+----------------+--------------------+--------------------+-----------+--------------------+--------------------+------------+----+---------------+------+-------------+-------------+-----+----+--------------------+\n",
      "|                 299|17142be6-72a0-578...|       2,299|             3.9|      adidas Origina|Clothing and Acce...|    33% off|An instant classi...|                null|        null|null|           null|  null|         null|         null| null|null|2024-01-01T00:00:...|\n",
      "|going strong. Thi...|['https://rukmini...|      ИСТИНА|TSHFZF6KRWWZFF2F|[{'Type': 'Round ...|                null|    Topwear|Solid Men Round N...|https://www.flipk...|        null|null|           null|  null|         null|         null| null|null|2024-02-01T00:00:...|\n",
      "|                 308|c839dcbf-4218-5d4...|       2,299|             4.1|      adidas Origina|Clothing and Acce...|    57% off|An instant classi...|                null|        null|null|           null|  null|         null|         null| null|null|2024-03-01T00:00:...|\n",
      "|going strong. Thi...|['https://rukmini...|        ЛОЖЬ|TSHFZF6KWKKUHCVY|[{'Type': 'Round ...|           RetailNet|    Topwear|Solid Men Round N...|https://www.flipk...|        null|null|           null|  null|         null|         null| null|null|2024-04-01T00:00:...|\n",
      "|                 312|9ac18a59-6085-54d...|       2,299|             3.7|      adidas Origina|Clothing and Acce...|    33% off|An instant classi...|                null|        null|null|           null|  null|         null|         null| null|null|2024-01-01T00:00:...|\n",
      "+--------------------+--------------------+------------+----------------+--------------------+--------------------+-----------+--------------------+--------------------+------------+----+---------------+------+-------------+-------------+-----+----+--------------------+\n",
      "only showing top 5 rows\n",
      "\n"
     ]
    }
   ],
   "source": [
    "spark.read.csv('data/output_data.csv', sep=';', header=True).show(5)"
   ]
  },
  {
   "cell_type": "code",
   "execution_count": 125,
   "id": "c56bfb26-13e6-4fa5-9e9b-a254a8652c87",
   "metadata": {},
   "outputs": [
    {
     "name": "stdout",
     "output_type": "stream",
     "text": [
      "+--------------------+------------+----------------+--------------------+--------------------+-----------+--------------------+--------------------+------------+----+---------------+------+-------------+-------------+-----+----+--------------------+\n",
      "|                  id|actual PRICE|  average rating|               brand|            category|description|            discount|         Изображение|out of stock| pid|product details|seller|selling price|sub  category|TITLE| url|                date|\n",
      "+--------------------+------------+----------------+--------------------+--------------------+-----------+--------------------+--------------------+------------+----+---------------+------+-------------+-------------+-----+----+--------------------+\n",
      "|17142be6-72a0-578...|       2,299|             3.9|      adidas Origina|Clothing and Acce...|    33% off|An instant classi...|                null|        null|null|           null|  null|         null|         null| null|null|2024-01-01T00:00:...|\n",
      "|['https://rukmini...|      ИСТИНА|TSHFZF6KRWWZFF2F|[{'Type': 'Round ...|                null|    Topwear|Solid Men Round N...|https://www.flipk...|        null|null|           null|  null|         null|         null| null|null|2024-02-01T00:00:...|\n",
      "|c839dcbf-4218-5d4...|       2,299|             4.1|      adidas Origina|Clothing and Acce...|    57% off|An instant classi...|                null|        null|null|           null|  null|         null|         null| null|null|2024-03-01T00:00:...|\n",
      "|['https://rukmini...|        ЛОЖЬ|TSHFZF6KWKKUHCVY|[{'Type': 'Round ...|           RetailNet|    Topwear|Solid Men Round N...|https://www.flipk...|        null|null|           null|  null|         null|         null| null|null|2024-04-01T00:00:...|\n",
      "|9ac18a59-6085-54d...|       2,299|             3.7|      adidas Origina|Clothing and Acce...|    33% off|An instant classi...|                null|        null|null|           null|  null|         null|         null| null|null|2024-01-01T00:00:...|\n",
      "+--------------------+------------+----------------+--------------------+--------------------+-----------+--------------------+--------------------+------------+----+---------------+------+-------------+-------------+-----+----+--------------------+\n",
      "only showing top 5 rows\n",
      "\n"
     ]
    }
   ],
   "source": [
    "df = spark.read.csv('data/output_data.csv', sep=';', header=True).drop('_c0')\n",
    "\n",
    "df.show(5)"
   ]
  },
  {
   "cell_type": "code",
   "execution_count": 126,
   "id": "9c9440ab",
   "metadata": {},
   "outputs": [
    {
     "name": "stdout",
     "output_type": "stream",
     "text": [
      "-RECORD 0--------------------------------------------------------------------------------------------------------------------------------------------------------------------------------------------------------------------------------------------------------------------------------------------------------------------------------------------------------------------------------------------------------------------------------------------------------------------------------------------------------------------------------------------------------------------------------------------------------------------------------------------------------------------------------------------------------------------------------------------------------------------------------------------------------------------------------------------\n",
      " id              | 17142be6-72a0-578f-8c82-0bc52b3194c4                                                                                                                                                                                                                                                                                                                                                                                                                                                                                                                                                                                                                                                                                                                                                                                              \n",
      " actual PRICE    | 2,299                                                                                                                                                                                                                                                                                                                                                                                                                                                                                                                                                                                                                                                                                                                                                                                                                             \n",
      " average rating  | 3.9                                                                                                                                                                                                                                                                                                                                                                                                                                                                                                                                                                                                                                                                                                                                                                                                                               \n",
      " brand           | adidas Origina                                                                                                                                                                                                                                                                                                                                                                                                                                                                                                                                                                                                                                                                                                                                                                                                                    \n",
      " category        | Clothing and Accessories                                                                                                                                                                                                                                                                                                                                                                                                                                                                                                                                                                                                                                                                                                                                                                                                          \n",
      " description     | 33% off                                                                                                                                                                                                                                                                                                                                                                                                                                                                                                                                                                                                                                                                                                                                                                                                                           \n",
      " discount        | An instant classic since its introduction in the '70s, the 3-Stripes t-shirt is still                                                                                                                                                                                                                                                                                                                                                                                                                                                                                                                                                                                                                                                                                                                                             \n",
      " Изображение     | null                                                                                                                                                                                                                                                                                                                                                                                                                                                                                                                                                                                                                                                                                                                                                                                                                              \n",
      " out of stock    | null                                                                                                                                                                                                                                                                                                                                                                                                                                                                                                                                                                                                                                                                                                                                                                                                                              \n",
      " pid             | null                                                                                                                                                                                                                                                                                                                                                                                                                                                                                                                                                                                                                                                                                                                                                                                                                              \n",
      " product details | null                                                                                                                                                                                                                                                                                                                                                                                                                                                                                                                                                                                                                                                                                                                                                                                                                              \n",
      " seller          | null                                                                                                                                                                                                                                                                                                                                                                                                                                                                                                                                                                                                                                                                                                                                                                                                                              \n",
      " selling price   | null                                                                                                                                                                                                                                                                                                                                                                                                                                                                                                                                                                                                                                                                                                                                                                                                                              \n",
      " sub  category   | null                                                                                                                                                                                                                                                                                                                                                                                                                                                                                                                                                                                                                                                                                                                                                                                                                              \n",
      " TITLE           | null                                                                                                                                                                                                                                                                                                                                                                                                                                                                                                                                                                                                                                                                                                                                                                                                                              \n",
      " url             | null                                                                                                                                                                                                                                                                                                                                                                                                                                                                                                                                                                                                                                                                                                                                                                                                                              \n",
      " date            | 2024-01-01T00:00:00.000+03:00                                                                                                                                                                                                                                                                                                                                                                                                                                                                                                                                                                                                                                                                                                                                                                                                     \n",
      "-RECORD 1--------------------------------------------------------------------------------------------------------------------------------------------------------------------------------------------------------------------------------------------------------------------------------------------------------------------------------------------------------------------------------------------------------------------------------------------------------------------------------------------------------------------------------------------------------------------------------------------------------------------------------------------------------------------------------------------------------------------------------------------------------------------------------------------------------------------------------------------\n",
      " id              | ['https://rukminim1.flixcart.com/image/128/128/kfoapow0-0/t-shirt/w/h/w/xl-cw1203-adidas-originals-original-imafw2jycbavmddg.jpeg?q=70', 'https://rukminim1.flixcart.com/image/128/128/k7w8eq80/t-shirt/a/r/b/m-cw1203-adidas-originals-original-imafqf6gjh87sdaz.jpeg?q=70', 'https://rukminim1.flixcart.com/image/128/128/k7w8eq80/t-shirt/a/r/b/m-cw1203-adidas-originals-original-imafqf6gquvum4nu.jpeg?q=70', 'https://rukminim1.flixcart.com/image/128/128/k7w8eq80/t-shirt/a/r/b/m-cw1203-adidas-originals-original-imafqyp8gwg7xhgz.jpeg?q=70', 'https://rukminim1.flixcart.com/image/128/128/k7w8eq80/t-shirt/a/r/b/m-cw1203-adidas-originals-original-imafqyp84byeawvs.jpeg?q=70', 'https://rukminim1.flixcart.com/image/128/128/k7w8eq80/t-shirt/a/r/b/m-cw1203-adidas-originals-original-imafqyp8nuahj98a.jpeg?q=70'] \n",
      " actual PRICE    | ИСТИНА                                                                                                                                                                                                                                                                                                                                                                                                                                                                                                                                                                                                                                                                                                                                                                                                                            \n",
      " average rating  | TSHFZF6KRWWZFF2F                                                                                                                                                                                                                                                                                                                                                                                                                                                                                                                                                                                                                                                                                                                                                                                                                  \n",
      " brand           | [{'Type': 'Round Neck'}, {'Sleeve': 'Short Sleeve'}, {'Fit': 'Regular'}, {'Fabric': 'Cotton Viscose Blend'}, {'Pack of': '1'}, {'Style Code': 'CW1203'}, {'Neck Type': 'Round Neck'}, {'Ideal For': 'Men'}, {'Size': 'XL'}, {'Pattern': 'Solid'}, {'Suitable For': 'Western Wear'}, {'Brand Fit': 'Regular'}, {'Reversible': 'No'}, {'Fabric Care': 'Machine wash as per tag'}, {'Model Name': '3-STRIPES TEE'}, {'Brand Color': 'WHITE'}]                                                                                                                                                                                                                                                                                                                                                                                        \n",
      " category        | null                                                                                                                                                                                                                                                                                                                                                                                                                                                                                                                                                                                                                                                                                                                                                                                                                              \n",
      " description     | Topwear                                                                                                                                                                                                                                                                                                                                                                                                                                                                                                                                                                                                                                                                                                                                                                                                                           \n",
      " discount        | Solid Men Round Neck White T-Shirt                                                                                                                                                                                                                                                                                                                                                                                                                                                                                                                                                                                                                                                                                                                                                                                                \n",
      " Изображение     | https://www.flipkart.com/adidas-originals-solid-men-round-neck-white-t-shirt/p/itm2fc2378a4b85e?pid=TSHFZF6KRWWZFF2F&lid=LSTTSHFZF6KRWWZFF2F1WBNWR&marketplace=FLIPKART&srno=b_2_45&otracker=browse&fm=organic&iid=0ef0c9a9-0240-4c70-952a-28d6fe6ccdb8.TSHFZF6KRWWZFF2F.SEARCH&ssid=tnv45k0wyo0000001612094269132                                                                                                                                                                                                                                                                                                                                                                                                                                                                                                                \n",
      " out of stock    | null                                                                                                                                                                                                                                                                                                                                                                                                                                                                                                                                                                                                                                                                                                                                                                                                                              \n",
      " pid             | null                                                                                                                                                                                                                                                                                                                                                                                                                                                                                                                                                                                                                                                                                                                                                                                                                              \n",
      " product details | null                                                                                                                                                                                                                                                                                                                                                                                                                                                                                                                                                                                                                                                                                                                                                                                                                              \n",
      " seller          | null                                                                                                                                                                                                                                                                                                                                                                                                                                                                                                                                                                                                                                                                                                                                                                                                                              \n",
      " selling price   | null                                                                                                                                                                                                                                                                                                                                                                                                                                                                                                                                                                                                                                                                                                                                                                                                                              \n",
      " sub  category   | null                                                                                                                                                                                                                                                                                                                                                                                                                                                                                                                                                                                                                                                                                                                                                                                                                              \n",
      " TITLE           | null                                                                                                                                                                                                                                                                                                                                                                                                                                                                                                                                                                                                                                                                                                                                                                                                                              \n",
      " url             | null                                                                                                                                                                                                                                                                                                                                                                                                                                                                                                                                                                                                                                                                                                                                                                                                                              \n",
      " date            | 2024-02-01T00:00:00.000+03:00                                                                                                                                                                                                                                                                                                                                                                                                                                                                                                                                                                                                                                                                                                                                                                                                     \n",
      "only showing top 2 rows\n",
      "\n"
     ]
    }
   ],
   "source": [
    "df.show(2, False, True)"
   ]
  },
  {
   "cell_type": "code",
   "execution_count": null,
   "id": "ccaf84d9-46e3-484d-bb00-67c815628c60",
   "metadata": {},
   "outputs": [],
   "source": [
    "### PrintSchema"
   ]
  },
  {
   "cell_type": "code",
   "execution_count": 127,
   "id": "21a90f1c",
   "metadata": {},
   "outputs": [
    {
     "name": "stdout",
     "output_type": "stream",
     "text": [
      "root\n",
      " |-- id: string (nullable = true)\n",
      " |-- actual PRICE: string (nullable = true)\n",
      " |-- average rating: string (nullable = true)\n",
      " |-- brand: string (nullable = true)\n",
      " |-- category: string (nullable = true)\n",
      " |-- description: string (nullable = true)\n",
      " |-- discount: string (nullable = true)\n",
      " |-- Изображение: string (nullable = true)\n",
      " |-- out of stock: string (nullable = true)\n",
      " |-- pid: string (nullable = true)\n",
      " |-- product details: string (nullable = true)\n",
      " |-- seller: string (nullable = true)\n",
      " |-- selling price: string (nullable = true)\n",
      " |-- sub  category: string (nullable = true)\n",
      " |-- TITLE: string (nullable = true)\n",
      " |-- url: string (nullable = true)\n",
      " |-- date: string (nullable = true)\n",
      "\n"
     ]
    }
   ],
   "source": [
    "df.printSchema()"
   ]
  },
  {
   "cell_type": "code",
   "execution_count": 128,
   "id": "f263951f-5f95-4446-8136-5642004946e1",
   "metadata": {},
   "outputs": [
    {
     "name": "stdout",
     "output_type": "stream",
     "text": [
      "['id', 'actual_price', 'average_rating', 'brand', 'category', 'description', 'discount', 'изображение', 'out_of_stock', 'pid', 'product_details', 'seller', 'selling_price', 'sub__category', 'title', 'url', 'date']\n"
     ]
    }
   ],
   "source": [
    "df.columns\n",
    "\n",
    "new_columns = []\n",
    "\n",
    "\n",
    "for column in df.columns:\n",
    "    new_columns.append(column.strip().lower().replace(\" \", \"_\"))\n",
    "\n",
    "print(new_columns)"
   ]
  },
  {
   "cell_type": "code",
   "execution_count": 129,
   "id": "7c9ebb5a",
   "metadata": {},
   "outputs": [
    {
     "data": {
      "text/plain": [
       "['id',\n",
       " 'actual_price',\n",
       " 'average_rating',\n",
       " 'brand',\n",
       " 'category',\n",
       " 'description',\n",
       " 'discount',\n",
       " 'изображение',\n",
       " 'out_of_stock',\n",
       " 'pid',\n",
       " 'product_details',\n",
       " 'seller',\n",
       " 'selling_price',\n",
       " 'sub__category',\n",
       " 'title',\n",
       " 'url',\n",
       " 'date']"
      ]
     },
     "execution_count": 129,
     "metadata": {},
     "output_type": "execute_result"
    }
   ],
   "source": [
    "new_df = df.toDF(*new_columns)\n",
    "new_df.columns"
   ]
  },
  {
   "cell_type": "code",
   "execution_count": 130,
   "id": "ccf633ef-415f-417d-b3b8-fb56b5109029",
   "metadata": {},
   "outputs": [
    {
     "data": {
      "text/plain": [
       "['id',\n",
       " 'actual_price',\n",
       " 'average_rating',\n",
       " 'brand',\n",
       " 'category',\n",
       " 'description',\n",
       " 'discount',\n",
       " 'image',\n",
       " 'out_of_stock',\n",
       " 'pid',\n",
       " 'product_details',\n",
       " 'seller',\n",
       " 'selling_price',\n",
       " 'sub_category',\n",
       " 'title',\n",
       " 'url',\n",
       " 'date']"
      ]
     },
     "execution_count": 130,
     "metadata": {},
     "output_type": "execute_result"
    }
   ],
   "source": [
    "result = new_df\\\n",
    "        .withColumnRenamed(\"sub__category\", \"sub_category\")\\\n",
    "        .withColumnRenamed(\"изображение\", \"image\")\n",
    "\n",
    "result.columns"
   ]
  },
  {
   "cell_type": "markdown",
   "id": "8464d803",
   "metadata": {},
   "source": [
    "### Select"
   ]
  },
  {
   "cell_type": "code",
   "execution_count": 131,
   "id": "c67966ef-90cd-42d4-a260-236b60220312",
   "metadata": {},
   "outputs": [
    {
     "name": "stdout",
     "output_type": "stream",
     "text": [
      "+--------------------------------------------------------------------------------------------------------------------------------------------------------------------------------------------------------------------------------------------------------------------------------------------------------------------------------------------------------------------------------------------------------------------------------------------------------------------------------------------------------------------------------------------------------------------------------------------------------------------------------------------------------------------------------------------------------------------------------------------------------------------------------------------------------------------------------------------------------------------------------------+\n",
      "|brand                                                                                                                                                                                                                                                                                                                                                                                                                                                                                                                                                                                                                                                                                                                                                                                                                                                                                 |\n",
      "+--------------------------------------------------------------------------------------------------------------------------------------------------------------------------------------------------------------------------------------------------------------------------------------------------------------------------------------------------------------------------------------------------------------------------------------------------------------------------------------------------------------------------------------------------------------------------------------------------------------------------------------------------------------------------------------------------------------------------------------------------------------------------------------------------------------------------------------------------------------------------------------+\n",
      "|[{'Pack of': '1'}, {'Model Name': 'Men Formal Full Sleeve Regular Fit Shirt Colour Green Medium Size [38 inches] | Mens Shirts for Office and Business wear'}, {'Style Code': '6058_Parent'}, {'Fit': 'Regular'}, {'Fabric': 'Polycotton'}, {'Sleeve': 'Full Sleeve'}, {'Pattern': 'Checkered'}, {'Reversible': 'No'}, {'Collar': 'Spread'}, {'Color': 'Green'}, {'Fabric Care': 'Do not bleach'}, {'Suitable For': 'Western Wear'}, {'Hem': 'Straight'}]                                                                                                                                                                                                                                                                                                                                                                                                                             |\n",
      "|[{'Type': 'Round Neck'}, {'Sleeve': 'Short Sleeve'}, {'Fit': 'Regular'}, {'Fabric': 'Pure Cotton'}, {'Sales Package': '1 Cotton T-Shirt'}, {'Pack of': '1'}, {'Style Code': 'KabhiKabhiLagtaHai-Black'}, {'Neck Type': 'Round Neck'}, {'Ideal For': 'Men'}, {'Size': 'M'}, {'Pattern': 'Printed'}, {'Suitable For': 'Western Wear'}, {'Reversible': 'No'}, {'Fabric Care': 'Gentle Machine Wash'}, {'Other Details': '\\xa0This T-shirt with printed quotes gives a trendy yet casual look. Durable stitching and Quality finish makes this Product a must have in your wardrobe'}, {'Brand Color': 'Black'}, {'Generic Name': 'T Shirts'}, {'Country of Origin': 'India'}]                                                                                                                                                                                                            |\n",
      "|T10 Spor                                                                                                                                                                                                                                                                                                                                                                                                                                                                                                                                                                                                                                                                                                                                                                                                                                                                              |\n",
      "|K                                                                                                                                                                                                                                                                                                                                                                                                                                                                                                                                                                                                                                                                                                                                                                                                                                                                                     |\n",
      "|MILD                                                                                                                                                                                                                                                                                                                                                                                                                                                                                                                                                                                                                                                                                                                                                                                                                                                                                  |\n",
      "|[{'Sales Package': '1 raincoat'}, {'Fabric Care': 'Cold Water Wash Only'}, {'Sleeve': 'Full Sleeve'}, {'Closure': 'Zipper'}, {'Type': 'Rain Coat'}, {'Fabric': 'Polyester'}, {'Color': 'Black'}, {'Pattern': 'Solid'}, {'Style Code': 'waterproof'}, {'Other Details': 'Made of tough polyester fabric fully seam-sealed at every joint completely waterproof | The jacket features an adjustable hood with a Full front zipper. The pant features an elastic waist and a straight-leg design. Pockets on jackets both sides with flaps on them | Lightweight and packable design making it easy to pack carry, great to carry everywhere | Stylish, efficient, comfortable take on protecting you from the wet windy weather | VERSATILE FIT: rain jacket pant feature a timeless, versatile fit for rainy-day wear.'}, {'Generic Name': 'Raincoat'}, {'Country of Origin': 'India'}]|\n",
      "|[{'Type': 'Round Neck'}, {'Sleeve': 'Short Sleeve'}, {'Fit': 'Regular'}, {'Fabric': 'Pure Cotton'}, {'Sales Package': '1 Cotton T-Shirt'}, {'Pack of': '1'}, {'Style Code': 'JalMat-White'}, {'Neck Type': 'Round Neck'}, {'Ideal For': 'Men'}, {'Size': 'XXL'}, {'Pattern': 'Printed'}, {'Suitable For': 'Western Wear'}, {'Reversible': 'No'}, {'Fabric Care': 'Gentle Machine Wash'}, {'Other Details': '\\xa0This T-shirt with printed quotes gives a trendy yet casual look. Durable stitching and Quality finish makes this Product a must have in your wardrobe'}, {'Brand Color': 'White'}, {'Generic Name': 'T Shirts'}, {'Country of Origin': 'India'}]                                                                                                                                                                                                                      |\n",
      "|[{'Neck': 'Square Neck'}, {'Pattern': 'Color Block'}, {'Sleeve': 'Sleeveless'}, {'Sales Package': 'Pack of 2 Vest'}, {'Style Code': 'TIT_GYM_1010_PO2_GB.BR'}, {'Fabric Care': 'Normal Wash'}, {'Generic Name': 'Vests'}, {'Country of Origin': 'India'}]                                                                                                                                                                                                                                                                                                                                                                                                                                                                                                                                                                                                                             |\n",
      "|fas                                                                                                                                                                                                                                                                                                                                                                                                                                                                                                                                                                                                                                                                                                                                                                                                                                                                                   |\n",
      "|ertugrul ghazi c                                                                                                                                                                                                                                                                                                                                                                                                                                                                                                                                                                                                                                                                                                                                                                                                                                                                      |\n",
      "+--------------------------------------------------------------------------------------------------------------------------------------------------------------------------------------------------------------------------------------------------------------------------------------------------------------------------------------------------------------------------------------------------------------------------------------------------------------------------------------------------------------------------------------------------------------------------------------------------------------------------------------------------------------------------------------------------------------------------------------------------------------------------------------------------------------------------------------------------------------------------------------+\n",
      "only showing top 10 rows\n",
      "\n"
     ]
    }
   ],
   "source": [
    "result.select('brand').distinct().show(10, truncate=False)"
   ]
  },
  {
   "cell_type": "code",
   "execution_count": 133,
   "id": "6cd2a20f-8af3-439a-a487-6c7d3fbcc64f",
   "metadata": {},
   "outputs": [
    {
     "name": "stdout",
     "output_type": "stream",
     "text": [
      "+------------------------------------+--------------+------------+-----------------------------+\n",
      "|id                                  |brand         |actual_price|date                         |\n",
      "+------------------------------------+--------------+------------+-----------------------------+\n",
      "|17142be6-72a0-578f-8c82-0bc52b3194c4|adidas Origina|2,299       |2024-01-01T00:00:00.000+03:00|\n",
      "|c839dcbf-4218-5d49-8a00-03f52be09384|adidas Origina|2,299       |2024-03-01T00:00:00.000+03:00|\n",
      "|9ac18a59-6085-54d3-8f73-95574c1de763|adidas Origina|2,299       |2024-01-01T00:00:00.000+03:00|\n",
      "|3d42a088-ba2c-5f8e-8142-69d834e0e6f9|SayItLo       |799         |2024-03-01T00:00:00.000+03:00|\n",
      "|bb3690f3-ec5f-5552-a30b-9e3400493836|SayItLo       |799         |2024-04-01T00:00:00.000+03:00|\n",
      "+------------------------------------+--------------+------------+-----------------------------+\n",
      "only showing top 5 rows\n",
      "\n",
      "Total brands: 328\n"
     ]
    }
   ],
   "source": [
    "only_brands = result\\\n",
    "                    .where(~F.col('brand').contains('['))\\\n",
    "                    .select('id',\n",
    "                            'brand',\n",
    "                            'actual_price',\n",
    "                            'date')\n",
    "\n",
    "only_brands.show(5, truncate=False)\n",
    "\n",
    "print(f'Total brands: {only_brands.select(\"brand\").distinct().count()}')"
   ]
  },
  {
   "cell_type": "code",
   "execution_count": 134,
   "id": "de04af3e-df50-431e-aa2e-f0a18cbc53bb",
   "metadata": {},
   "outputs": [
    {
     "name": "stderr",
     "output_type": "stream",
     "text": [
      "[Stage 302:>                                                        (0 + 8) / 8]"
     ]
    },
    {
     "name": "stdout",
     "output_type": "stream",
     "text": [
      "+------------+----------+\n",
      "|       brand|total_rows|\n",
      "+------------+----------+\n",
      "|        ARBO|       999|\n",
      "|          Pu|       996|\n",
      "|     True Bl|       996|\n",
      "|        REEB|       996|\n",
      "|    ECKO Unl|       993|\n",
      "|Free Authori|       864|\n",
      "|         Keo|       668|\n",
      "|         Amp|       621|\n",
      "|  Black Beat|       560|\n",
      "|        PixF|       528|\n",
      "|   yellowvib|       507|\n",
      "|    vims rai|       504|\n",
      "|  Marca Disa|       444|\n",
      "|         Oka|       419|\n",
      "|      Gracew|       405|\n",
      "|     TEE BUD|       398|\n",
      "|       Shoef|       358|\n",
      "|           V|       346|\n",
      "|    CupidSto|       338|\n",
      "|     Urban D|       324|\n",
      "+------------+----------+\n",
      "only showing top 20 rows\n",
      "\n"
     ]
    },
    {
     "name": "stderr",
     "output_type": "stream",
     "text": [
      "                                                                                "
     ]
    }
   ],
   "source": [
    "only_brands\\\n",
    "        .groupBy('brand')\\\n",
    "        .agg(F.count('*').alias('total_rows'))\\\n",
    "        .orderBy(F.col('total_rows').desc())\\\n",
    "        .show()"
   ]
  },
  {
   "cell_type": "markdown",
   "id": "230b564c-86f8-4633-a5ff-5cf8da7b6eea",
   "metadata": {},
   "source": [
    "### Save to CSV"
   ]
  },
  {
   "cell_type": "code",
   "execution_count": 197,
   "id": "d62869a2-9781-428d-9292-6775b5bd5b5e",
   "metadata": {},
   "outputs": [
    {
     "name": "stdout",
     "output_type": "stream",
     "text": [
      "27936\n",
      "+------------------------------------+--------------+------------+-----------------------------+----------+\n",
      "|id                                  |brand         |actual_price|date                         |load_date |\n",
      "+------------------------------------+--------------+------------+-----------------------------+----------+\n",
      "|17142be6-72a0-578f-8c82-0bc52b3194c4|adidas Origina|2,299       |2024-01-01T00:00:00.000+03:00|2024-01-01|\n",
      "|c839dcbf-4218-5d49-8a00-03f52be09384|adidas Origina|2,299       |2024-03-01T00:00:00.000+03:00|2024-03-01|\n",
      "+------------------------------------+--------------+------------+-----------------------------+----------+\n",
      "only showing top 2 rows\n",
      "\n"
     ]
    }
   ],
   "source": [
    "final = only_brands\\\n",
    "                .withColumn('load_date', F.col('date').cast('date'))\n",
    "\n",
    "print(final.count())\n",
    "final.show(2, truncate=False)"
   ]
  },
  {
   "cell_type": "code",
   "execution_count": 198,
   "id": "8eff1058-85c4-4f3a-ad43-b3e69f41abab",
   "metadata": {},
   "outputs": [
    {
     "name": "stdout",
     "output_type": "stream",
     "text": [
      "Кол-во партиций 8\n",
      "Кол-во партиций 1\n"
     ]
    },
    {
     "name": "stderr",
     "output_type": "stream",
     "text": [
      "                                                                                "
     ]
    },
    {
     "name": "stdout",
     "output_type": "stream",
     "text": [
      "Load_date distinct: 4\n",
      "Кол-во партиций 1\n"
     ]
    }
   ],
   "source": [
    "# Сохранение неконтроллируемое по кол-ву файлов\n",
    "final\\\n",
    "    .write\\\n",
    "    .format('csv')\\\n",
    "    .options(header='True', sep=';')\\\n",
    "    .csv('data/final_no_control')\n",
    "\n",
    "partition_num = final.rdd.getNumPartitions()\n",
    "print(f'Кол-во партиций {partition_num}')\n",
    "\n",
    "# Сохранение контроллируемое по кол-ву файлов - ОДИН ФАЙЛ\n",
    "final\\\n",
    "    .coalesce(1)\\\n",
    "    .write\\\n",
    "    .format('csv')\\\n",
    "    .options(header='True', sep=';')\\\n",
    "    .csv('data/final_one_file') \n",
    "\n",
    "partition_num = final.coalesce(1).rdd.getNumPartitions()\n",
    "print(f'Кол-во партиций {partition_num}')\n",
    "\n",
    "\n",
    "# Сохранения с партицированием\n",
    "final\\\n",
    "    .write\\\n",
    "    .partitionBy('load_date')\\\n",
    "    .format('csv')\\\n",
    "    .options(header='True', sep=';')\\\n",
    "    .csv('data/final_partitioned')\n",
    "\n",
    "print_df = final.select('load_date').distinct()\n",
    "print(f'Load_date distinct: {print_df.count()}')\n",
    "\n",
    "\n",
    "# Сохранения с партицированием и repartition внутри самой партиции\n",
    "final\\\n",
    "    .repartition(1, 'load_date')\\\n",
    "    .write\\\n",
    "    .partitionBy('load_date')\\\n",
    "    .format('csv')\\\n",
    "    .options(header='True', sep=';')\\\n",
    "    .csv('data/final_partitioned_repart')\n",
    "\n",
    "partition_num = final.repartition(1, 'load_date').rdd.getNumPartitions()\n",
    "print(f'Кол-во партиций {partition_num}')"
   ]
  },
  {
   "cell_type": "code",
   "execution_count": 201,
   "id": "e081b2fd-85d9-4d14-9631-53b82a09e3ab",
   "metadata": {},
   "outputs": [],
   "source": [
    "spark.stop()"
   ]
  },
  {
   "cell_type": "code",
   "execution_count": 204,
   "id": "70e3d82e-b20d-4e3d-8ad9-e752662da308",
   "metadata": {},
   "outputs": [
    {
     "name": "stdout",
     "output_type": "stream",
     "text": [
      "6974\n",
      "6974\n"
     ]
    }
   ],
   "source": [
    "reader1 = spark\\\n",
    "            .read\\\n",
    "            .csv('data/final_partitioned_repart', header=True, sep=';')\\\n",
    "            .where(''' load_date = \"2024-01-01\" ''')\n",
    "\n",
    "\n",
    "print(reader1.count())\n",
    "\n",
    "\n",
    "# reader2 = spark\\\n",
    "#             .read\\\n",
    "#             .csv('data/final_no_conrtol', header=True, sep=';')\\\n",
    "#             .where(''' load_date = \"2024-01-01\" ''')\n",
    "\n",
    "\n",
    "# reader2.count()\n",
    "\n",
    "\n",
    "\n",
    "reader3 = spark\\\n",
    "            .read\\\n",
    "            .csv('data/final_one_file/part-00000-fdfcbba9-0f73-4f51-b5d8-3741788def8b-c000.csv', header=True, sep=';')\\\n",
    "            .where(''' load_date = \"2024-01-01\" ''')\n",
    "\n",
    "\n",
    "print(reader3.count())"
   ]
  },
  {
   "cell_type": "markdown",
   "id": "7bd757ea",
   "metadata": {},
   "source": [
    "### Filter"
   ]
  },
  {
   "cell_type": "code",
   "execution_count": null,
   "id": "cf02c21f",
   "metadata": {},
   "outputs": [],
   "source": [
    "new_df.where(''' brand != \"York\" ''')\\\n",
    "    .select('id', 'actual_price', 'average_rating', 'brand')\\\n",
    "    .show(10, truncate=False)\n",
    "\n",
    "\n",
    "\n",
    "new_df.where(F.col(\"brand\") != \"York\")\\\n",
    "    .select('id', 'actual_price', 'average_rating', 'brand')\\\n",
    "    .show(10, truncate=False)"
   ]
  },
  {
   "cell_type": "markdown",
   "id": "022f5468",
   "metadata": {},
   "source": [
    "### JOIN"
   ]
  },
  {
   "cell_type": "code",
   "execution_count": null,
   "id": "a7d9203a",
   "metadata": {},
   "outputs": [],
   "source": [
    "data = [(1,'one'), (2,'two'), (3,'three'), (4,'four'),\n",
    "        (5,'five'), (6,'six'), (7, 'seven'), (8, 'eight'),\n",
    "        (9, 'nine')]\n",
    "\n",
    "mix = spark.createDataFrame(data, ['id', 'number'])\n",
    "\n",
    "\n",
    "mix.join(mix, \"id\", \"inner\").show()"
   ]
  },
  {
   "cell_type": "code",
   "execution_count": null,
   "id": "fba78078",
   "metadata": {},
   "outputs": [],
   "source": [
    "mix.join(F.broadcast(mix), \"id\", \"inner\").show()"
   ]
  },
  {
   "cell_type": "code",
   "execution_count": null,
   "id": "e8e9b360",
   "metadata": {},
   "outputs": [],
   "source": [
    "filtered = mix.where(F.col(\"number\") != \"six\")\n",
    "\n",
    "mix.join(filtered, \"id\", \"anti\").show()"
   ]
  },
  {
   "cell_type": "markdown",
   "id": "d1c9bc17",
   "metadata": {},
   "source": [
    "### Cache | Persist"
   ]
  },
  {
   "cell_type": "code",
   "execution_count": 205,
   "id": "2c6344db",
   "metadata": {},
   "outputs": [
    {
     "name": "stderr",
     "output_type": "stream",
     "text": [
      "                                                                                "
     ]
    },
    {
     "data": {
      "text/plain": [
       "27936"
      ]
     },
     "execution_count": 205,
     "metadata": {},
     "output_type": "execute_result"
    }
   ],
   "source": [
    "df = spark.read.csv('data/final_partitioned_repart', header=True, sep=';')\n",
    "\n",
    "df.cache().count()"
   ]
  },
  {
   "cell_type": "code",
   "execution_count": 208,
   "id": "f2be3547",
   "metadata": {},
   "outputs": [
    {
     "data": {
      "text/plain": [
       "DataFrame[id: string, brand: string, actual_price: string, date: string, load_date: date]"
      ]
     },
     "execution_count": 208,
     "metadata": {},
     "output_type": "execute_result"
    }
   ],
   "source": [
    "df.unpersist()"
   ]
  },
  {
   "cell_type": "code",
   "execution_count": 207,
   "id": "eedfda2b",
   "metadata": {},
   "outputs": [
    {
     "name": "stderr",
     "output_type": "stream",
     "text": [
      "                                                                                "
     ]
    },
    {
     "data": {
      "text/plain": [
       "27936"
      ]
     },
     "execution_count": 207,
     "metadata": {},
     "output_type": "execute_result"
    }
   ],
   "source": [
    "from pyspark.storagelevel import StorageLevel\n",
    "\n",
    "df = spark.read.csv('data/final_partitioned_repart', header=True, sep=';')\n",
    "\n",
    "df.persist(StorageLevel.DISK_ONLY).count()"
   ]
  },
  {
   "cell_type": "markdown",
   "id": "1384836e",
   "metadata": {},
   "source": [
    "### Functions"
   ]
  },
  {
   "cell_type": "code",
   "execution_count": null,
   "id": "ca736bd5",
   "metadata": {},
   "outputs": [],
   "source": [
    "df = spark.read.csv('not_york_one_file', header=True)\n",
    "\n",
    "df.select(\"brand\")\\\n",
    "        .distinct()\\\n",
    "        .orderBy(F.col(\"brand\").desc())\\\n",
    "        .show(truncate=False)"
   ]
  },
  {
   "cell_type": "code",
   "execution_count": null,
   "id": "628f89ae",
   "metadata": {},
   "outputs": [],
   "source": [
    "df.select(F.lower(\"brand\").alias(\"test_col\"))\\\n",
    "        .distinct()\\\n",
    "        .orderBy(F.col(\"brand\").asc())\\\n",
    "        .show(1, truncate=False)"
   ]
  },
  {
   "cell_type": "code",
   "execution_count": null,
   "id": "57480106",
   "metadata": {},
   "outputs": [],
   "source": [
    "one_row = df\\\n",
    "            .select(F.lower(\"brand\").alias(\"test_col\"))\\\n",
    "            .distinct()\\\n",
    "            .orderBy(F.col(\"test_col\").asc())\\\n",
    "            .limit(1)"
   ]
  },
  {
   "cell_type": "code",
   "execution_count": null,
   "id": "0086df81",
   "metadata": {},
   "outputs": [],
   "source": [
    "from pyspark.sql.types import *\n",
    "\n",
    "one_row = df\\\n",
    "            .select(F.lower(\"brand\").alias(\"test_col\"))\\\n",
    "            .distinct()\\\n",
    "            .orderBy(F.col(\"test_col\").asc())\\\n",
    "            .limit(1)\n",
    "\n",
    "\n",
    "schema = ArrayType(\n",
    "    StructType([\n",
    "        StructField(\"key\", StringType()),\n",
    "        StructField(\"value\", StringType())\n",
    "    ])\n",
    ")\n",
    "\n",
    "\n",
    "\n",
    "new_df = one_row\\\n",
    "            .withColumn(\"test\", F.from_json(\"test_col\", schema))\\\n",
    "            .withColumn(\"element\", F.explode(F.col(\"test\")))\n",
    "\n",
    "\n",
    "\n",
    "new_df.show(truncate=False)"
   ]
  },
  {
   "cell_type": "markdown",
   "id": "7e9566a5",
   "metadata": {},
   "source": [
    "### Repartition & Coalesce"
   ]
  },
  {
   "cell_type": "code",
   "execution_count": 209,
   "id": "39c4a394",
   "metadata": {},
   "outputs": [
    {
     "name": "stdout",
     "output_type": "stream",
     "text": [
      "+---+------+\n",
      "| id|number|\n",
      "+---+------+\n",
      "|  1|   one|\n",
      "|  2|   two|\n",
      "|  3| three|\n",
      "|  4|  four|\n",
      "|  5|  five|\n",
      "|  6|   six|\n",
      "|  7| seven|\n",
      "|  8| eight|\n",
      "|  9|  nine|\n",
      "+---+------+\n",
      "\n"
     ]
    }
   ],
   "source": [
    "data = [(1,'one'), (2,'two'), (3,'three'), (4,'four'),\n",
    "        (5,'five'), (6,'six'), (7, 'seven'), (8, 'eight'),\n",
    "        (9, 'nine')]\n",
    "\n",
    "df = spark.createDataFrame(data, ['id', 'number'])\n",
    "\n",
    "df.show()"
   ]
  },
  {
   "cell_type": "code",
   "execution_count": 210,
   "id": "44e33bb0",
   "metadata": {},
   "outputs": [
    {
     "data": {
      "text/plain": [
       "[[Row(id=3, number='three'), Row(id=6, number='six')],\n",
       " [],\n",
       " [Row(id=1, number='one'), Row(id=2, number='two')],\n",
       " [],\n",
       " [Row(id=8, number='eight')],\n",
       " [Row(id=5, number='five'), Row(id=9, number='nine')],\n",
       " [Row(id=4, number='four')],\n",
       " [Row(id=7, number='seven')]]"
      ]
     },
     "execution_count": 210,
     "metadata": {},
     "output_type": "execute_result"
    }
   ],
   "source": [
    "# Намеренно перемешаем и поделим на 8 разделов\n",
    "mix = df.repartition(8)\n",
    "mix.rdd.glom().collect()"
   ]
  },
  {
   "cell_type": "code",
   "execution_count": 211,
   "id": "978ee041",
   "metadata": {},
   "outputs": [
    {
     "data": {
      "text/plain": [
       "[[Row(id=1, number='one'),\n",
       "  Row(id=4, number='four'),\n",
       "  Row(id=7, number='seven'),\n",
       "  Row(id=9, number='nine')],\n",
       " [Row(id=2, number='two')],\n",
       " [Row(id=3, number='three'),\n",
       "  Row(id=5, number='five'),\n",
       "  Row(id=6, number='six'),\n",
       "  Row(id=8, number='eight')]]"
      ]
     },
     "execution_count": 211,
     "metadata": {},
     "output_type": "execute_result"
    }
   ],
   "source": [
    "mix.repartition(3).rdd.glom().collect()"
   ]
  },
  {
   "cell_type": "code",
   "execution_count": 212,
   "id": "1eb8bba2",
   "metadata": {},
   "outputs": [
    {
     "data": {
      "text/plain": [
       "[[Row(id=3, number='three'), Row(id=6, number='six')],\n",
       " [Row(id=7, number='seven'),\n",
       "  Row(id=1, number='one'),\n",
       "  Row(id=2, number='two'),\n",
       "  Row(id=5, number='five'),\n",
       "  Row(id=9, number='nine')],\n",
       " [Row(id=8, number='eight'), Row(id=4, number='four')]]"
      ]
     },
     "execution_count": 212,
     "metadata": {},
     "output_type": "execute_result"
    }
   ],
   "source": [
    "mix.coalesce(3).rdd.glom().collect()"
   ]
  },
  {
   "cell_type": "code",
   "execution_count": 213,
   "id": "255abe6f",
   "metadata": {},
   "outputs": [
    {
     "data": {
      "text/html": [
       "<div>\n",
       "<style scoped>\n",
       "    .dataframe tbody tr th:only-of-type {\n",
       "        vertical-align: middle;\n",
       "    }\n",
       "\n",
       "    .dataframe tbody tr th {\n",
       "        vertical-align: top;\n",
       "    }\n",
       "\n",
       "    .dataframe thead th {\n",
       "        text-align: right;\n",
       "    }\n",
       "</style>\n",
       "<table border=\"1\" class=\"dataframe\">\n",
       "  <thead>\n",
       "    <tr style=\"text-align: right;\">\n",
       "      <th></th>\n",
       "      <th>id</th>\n",
       "      <th>number</th>\n",
       "    </tr>\n",
       "  </thead>\n",
       "  <tbody>\n",
       "    <tr>\n",
       "      <th>0</th>\n",
       "      <td>3</td>\n",
       "      <td>three</td>\n",
       "    </tr>\n",
       "    <tr>\n",
       "      <th>1</th>\n",
       "      <td>6</td>\n",
       "      <td>six</td>\n",
       "    </tr>\n",
       "    <tr>\n",
       "      <th>2</th>\n",
       "      <td>1</td>\n",
       "      <td>one</td>\n",
       "    </tr>\n",
       "    <tr>\n",
       "      <th>3</th>\n",
       "      <td>2</td>\n",
       "      <td>two</td>\n",
       "    </tr>\n",
       "    <tr>\n",
       "      <th>4</th>\n",
       "      <td>8</td>\n",
       "      <td>eight</td>\n",
       "    </tr>\n",
       "  </tbody>\n",
       "</table>\n",
       "</div>"
      ],
      "text/plain": [
       "   id number\n",
       "0   3  three\n",
       "1   6    six\n",
       "2   1    one\n",
       "3   2    two\n",
       "4   8  eight"
      ]
     },
     "execution_count": 213,
     "metadata": {},
     "output_type": "execute_result"
    }
   ],
   "source": [
    "mix.toPandas().head()"
   ]
  }
 ],
 "metadata": {
  "kernelspec": {
   "display_name": "Python 3 (ipykernel)",
   "language": "python",
   "name": "python3"
  },
  "language_info": {
   "codemirror_mode": {
    "name": "ipython",
    "version": 3
   },
   "file_extension": ".py",
   "mimetype": "text/x-python",
   "name": "python",
   "nbconvert_exporter": "python",
   "pygments_lexer": "ipython3",
   "version": "3.10.9"
  }
 },
 "nbformat": 4,
 "nbformat_minor": 5
}
